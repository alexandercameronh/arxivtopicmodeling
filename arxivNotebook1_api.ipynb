{
 "cells": [
  {
   "cell_type": "code",
   "execution_count": 1,
   "metadata": {
    "collapsed": false
   },
   "outputs": [
    {
     "name": "stderr",
     "output_type": "stream",
     "text": [
      "Slow version of gensim.models.doc2vec is being used\n"
     ]
    }
   ],
   "source": [
    "import sys\n",
    "import requests\n",
    "from bs4 import BeautifulSoup\n",
    "import re\n",
    "import pprint\n",
    "import fake_useragent\n",
    "from fake_useragent import UserAgent\n",
    "import arxiv\n",
    "import pandas as pd\n",
    "import urllib\n",
    "import feedparser\n",
    "# gensim\n",
    "from gensim import corpora, models, similarities, matutils\n",
    "# sklearn\n",
    "from sklearn import datasets\n",
    "from sklearn.feature_extraction.text import CountVectorizer\n",
    "from sklearn.cluster import KMeans\n",
    "from pymongo import MongoClient\n"
   ]
  },
  {
   "cell_type": "code",
   "execution_count": 2,
   "metadata": {
    "collapsed": false
   },
   "outputs": [
    {
     "name": "stdout",
     "output_type": "stream",
     "text": [
      "{'User-agent': 'Mozilla/5.0 (Windows NT 6.2; WOW64) AppleWebKit/537.36 (KHTML, like Gecko) Chrome/30.0.1599.17 Safari/537.36'}\n",
      "<Response [200]>\n",
      "('<?xml version=\"1.0\" encoding=\"UTF-8\"?>\\n'\n",
      " '<!DOCTYPE html PUBLIC \"-//W3C//DTD XHTML 1.0 Transitional//EN\" '\n",
      " '\"http://www.w3.org/TR/xhtml1/DTD/xhtml1-transitional.dtd\">\\n'\n",
      " '<html xmlns=\"http://www.w3.org/1999/xhtml\" lang=\"en\">\\n'\n",
      " '<head>\\n'\n",
      " '<title>arXiv.org - Archives</title>\\n'\n",
      " '<link rel=\"shortcut icon\" href=\"/favicon.ico\" type=\"image/x-icon\" />\\n'\n",
      " '<link rel=\"stylesheet\" type=\"text/css\" media=\"screen\" '\n",
      " 'href=\"/css/arXiv.css?v=20170424\" />\\n'\n",
      " '\\n'\n",
      " '<!-- Piwik -->\\n'\n",
      " '<script type=\"text/javascript\">\\n'\n",
      " 'var _paq = _paq || [];\\n'\n",
      " '_paq.push([\"setDomains\", [\"*.arxiv.org\"]]);\\n'\n",
      " \"_paq.push(['trackPageView']);\\n\"\n",
      " \"_paq.push(['enableLinkTracking']);\\n\"\n",
      " '(function()\\n'\n",
      " '{ var u=\"//webanalytics.library.cornell.edu/\"; _paq.push([\\'setTrackerUrl\\', '\n",
      " \"u+'piwik.php']); _paq.push(['setSiteId', 538]); var d=document, \"\n",
      " \"g=d.createElement('script'), s=d.getElementsByTagName('script')[0]; \"\n",
      " \"g.type='text/javascript'; g.async=true; g.defer=true; g.src=u+'piwik.js'; \"\n",
      " 's.parentNode.insertBefore(g,s); }\\n'\n",
      " ')();\\n'\n",
      " '</script>\\n'\n",
      " '<!-- End Piwik Code -->\\n'\n",
      " '\\n'\n",
      " '\\n'\n",
      " '</head>\\n'\n",
      " '<body class=\"with-cu-identity\">\\n'\n",
      " '\\n'\n",
      " '<noscript><img '\n",
      " 'src=\"//webanalytics.library.cornell.edu/piwik.php?idsite=538&rec=1\" '\n",
      " 'style=\"border:0;\" alt=\"\" /></noscript>\\n'\n",
      " '\\n'\n",
      " '<div id=\"cu-identity\">\\n'\n",
      " '<div id=\"cu-logo\">\\n'\n",
      " '<a id=\"insignia-link\" href=\"http://www.cornell.edu/\"><img '\n",
      " 'src=\"/icons/cu/cul_signature_unstyled.gif\" alt=\"Cornell University\" '\n",
      " 'width=\"283\" height=\"76\" border=\"0\" /></a>\\n'\n",
      " '<div id=\"unit-signature-links\">\\n'\n",
      " '<a id=\"cornell-link\" href=\"http://www.cornell.edu/\">Cornell University</a>\\n'\n",
      " '<a id=\"unit-link\" href=\"http://www.library.cornell.edu/\">Library</a>\\n'\n",
      " '</div>\\n'\n",
      " '</div>\\n'\n",
      " '<div id=\"support-ack\">\\n'\n",
      " '<a href=\"https://confluence.cornell.edu/x/ALlRF\">We gratefully acknowledge '\n",
      " 'support from<br />the Simons Foundation<br /> and member institutions</a>\\n'\n",
      " '</div>\\n'\n",
      " '</div>\\n'\n",
      " '<div id=\"header\">\\n'\n",
      " '<h1><a href=\"/\">arXiv.org</a> &gt; <a '\n",
      " 'href=\"/archive/list\">archives</a></h1>\\n'\n",
      " '<div id=\"search\">\\n'\n",
      " '<form id=\"search-arxiv\" method=\"post\" action=\"/search\">\\n'\n",
      " '                \\n'\n",
      " '<div class=\"wrapper-search-arxiv\">\\n'\n",
      " '<input class=\"keyword-field\" type=\"text\" name=\"query\" placeholder=\"Search or '\n",
      " 'Article ID\"/>\\n'\n",
      " '\\n'\n",
      " '<div class=\"filter-field\">\\n'\n",
      " ' <select name=\"searchtype\">\\n'\n",
      " '<option value=\"all\" selected=\"selected\">All papers</option>\\n'\n",
      " '<option value=\"ti\">Titles</option>\\n'\n",
      " '<option value=\"au\">Authors</option>\\n'\n",
      " '<option value=\"abs\">Abstracts</option>\\n'\n",
      " '<option value=\"ft\">Full text</option>\\n'\n",
      " '<option value=\"help\">Help pages</option>\\n'\n",
      " '</select>\\n'\n",
      " '</div>\\n'\n",
      " '<input class=\"btn-search-arxiv\" value=\"\" type=\"submit\">\\n'\n",
      " '<div class=\"links\">(<a href=\"/help\">Help</a> | <a href=\"/find\">Advanced '\n",
      " 'search</a>)</div>\\n'\n",
      " '</div>\\n'\n",
      " '</form>\\n'\n",
      " '</div>\\n'\n",
      " '</div>\\n'\n",
      " '<div id=\"content\">\\n'\n",
      " '<h1>Archives</h1>\\n'\n",
      " '<p>Choose one of the following archives</p>\\n'\n",
      " '<ul>\\n'\n",
      " '<li><a href=\"/archive/astro-ph\">Astrophysics</a> (astro-ph)</li>\\n'\n",
      " '<li><a href=\"/archive/cond-mat\">Condensed Matter</a> (cond-mat)</li>\\n'\n",
      " '<li><a href=\"/archive/cs\">Computer Science</a> (cs)</li>\\n'\n",
      " '<li><a href=\"/archive/gr-qc\">General Relativity and Quantum Cosmology</a> '\n",
      " '(gr-qc)</li>\\n'\n",
      " '<li><a href=\"/archive/hep-ex\">High Energy Physics - Experiment</a> '\n",
      " '(hep-ex)</li>\\n'\n",
      " '<li><a href=\"/archive/hep-lat\">High Energy Physics - Lattice</a> '\n",
      " '(hep-lat)</li>\\n'\n",
      " '<li><a href=\"/archive/hep-ph\">High Energy Physics - Phenomenology</a> '\n",
      " '(hep-ph)</li>\\n'\n",
      " '<li><a href=\"/archive/hep-th\">High Energy Physics - Theory</a> '\n",
      " '(hep-th)</li>\\n'\n",
      " '<li><a href=\"/archive/math\">Mathematics</a> (math)</li>\\n'\n",
      " '<li><a href=\"/archive/math-ph\">Mathematical Physics</a> (math-ph)</li>\\n'\n",
      " '<li><a href=\"/archive/nlin\">Nonlinear Sciences</a> (nlin)</li>\\n'\n",
      " '<li><a href=\"/archive/nucl-ex\">Nuclear Experiment</a> (nucl-ex)</li>\\n'\n",
      " '<li><a href=\"/archive/nucl-th\">Nuclear Theory</a> (nucl-th)</li>\\n'\n",
      " '<li><a href=\"/archive/physics\">Physics</a> (physics)</li>\\n'\n",
      " '<li><a href=\"/archive/q-bio\">Quantitative Biology</a> (q-bio)</li>\\n'\n",
      " '<li><a href=\"/archive/q-fin\">Quantitative Finance</a> (q-fin)</li>\\n'\n",
      " '<li><a href=\"/archive/quant-ph\">Quantum Physics</a> (quant-ph)</li>\\n'\n",
      " '<li><a href=\"/archive/stat\">Statistics</a> (stat)</li>\\n'\n",
      " '</ul>\\n'\n",
      " '<p>or from one of the following archives which no longer accept '\n",
      " 'submissions \\n'\n",
      " '(most have been subsumed into the archives listed above)</p>\\n'\n",
      " '<ul>\\n'\n",
      " '<li><a href=\"/archive/physics.acc-ph\">Accelerator Physics</a> (acc-phys, '\n",
      " 'subsumed into physics.acc-ph)</li>\\n'\n",
      " '<li><a href=\"/archive/nlin.AO\">Adaptation, Noise, and Self-Organizing '\n",
      " 'Systems</a> (adap-org, subsumed into nlin.AO)</li>\\n'\n",
      " '<li><a href=\"/archive/math.AG\">Algebraic Geometry</a> (alg-geom, subsumed '\n",
      " 'into math.AG)</li>\\n'\n",
      " '<li><a href=\"/archive/physics.ao-ph\">Atmospheric-Oceanic Sciences</a> '\n",
      " '(ao-sci, subsumed into physics.ao-ph)</li>\\n'\n",
      " '<li><a href=\"/archive/physics.atom-ph\">Atomic, Molecular and Optical '\n",
      " 'Physics</a> (atom-ph, subsumed into physics.atom-ph)</li>\\n'\n",
      " '<li><a href=\"/archive/physics.data-an\">Bayesian Analysis</a> (bayes-an, '\n",
      " 'subsumed into physics.data-an)</li>\\n'\n",
      " '<li><a href=\"/archive/nlin.CD\">Chaotic Dynamics</a> (chao-dyn, subsumed into '\n",
      " 'nlin.CD)</li>\\n'\n",
      " '<li><a href=\"/archive/physics.chem-ph\">Chemical Physics</a> (chem-ph, '\n",
      " 'subsumed into physics.chem-ph)</li>\\n'\n",
      " '<li><a href=\"/archive/cs.CL\">Computation and Language</a> (cmp-lg, subsumed '\n",
      " 'into cs.CL)</li>\\n'\n",
      " '<li><a href=\"/archive/nlin.CG\">Cellular Automata and Lattice Gases</a> '\n",
      " '(comp-gas, subsumed into nlin.CG)</li>\\n'\n",
      " '<li><a href=\"/archive/math.DG\">Differential Geometry</a> (dg-ga, subsumed '\n",
      " 'into math.DG)</li>\\n'\n",
      " '<li><a href=\"/archive/math.FA\">Functional Analysis</a> (funct-an, subsumed '\n",
      " 'into math.FA)</li>\\n'\n",
      " '<li><a href=\"/archive/cond-mat.mtrl-sci\">Materials Theory</a> (mtrl-th, '\n",
      " 'subsumed into cond-mat.mtrl-sci)</li>\\n'\n",
      " '<li><a href=\"/archive/nlin.PS\">Pattern Formation and Solitons</a> (patt-sol, '\n",
      " 'subsumed into nlin.PS)</li>\\n'\n",
      " '<li><a href=\"/archive/physics.plasm-ph\">Plasma Physics</a> (plasm-ph, '\n",
      " 'subsumed into physics.plasm-ph)</li>\\n'\n",
      " '<li><a href=\"/archive/math.QA\">Quantum Algebra and Topology</a> (q-alg, '\n",
      " 'subsumed into math.QA)</li>\\n'\n",
      " '<li><a href=\"/archive/nlin.SI\">Exactly Solvable and Integrable Systems</a> '\n",
      " '(solv-int, subsumed into nlin.SI)</li>\\n'\n",
      " '<li><a href=\"/archive/cond-mat.supr-con\">Superconductivity</a> (supr-con, '\n",
      " 'subsumed into cond-mat.supr-con)</li>\\n'\n",
      " '</ul>\\n'\n",
      " '</div>\\n'\n",
      " '<div id=\"footer\">\\n'\n",
      " '<div class=\"footer-text\">\\n'\n",
      " '<address>\\n'\n",
      " '<a href=\"/help/contact\">Contact</a>\\n'\n",
      " '</address>\\n'\n",
      " '</div>\\n'\n",
      " '<div class=\"social\"><a href=\"https://twitter.com/arxiv\"><img '\n",
      " 'src=\"//static.arxiv.org/icons/twitter_logo_blue.png\" alt=\"Twitter\" '\n",
      " 'title=\"Follow arXiv on Twitter\"></a></div>\\n'\n",
      " '</div>\\n'\n",
      " '</body>\\n'\n",
      " '</html>\\n')\n"
     ]
    }
   ],
   "source": [
    "url = 'https://arxiv.org/archive'\n",
    "\n",
    "user_agent = {'User-agent': 'Mozilla/5.0'}\n",
    "response  = requests.get(url, headers = user_agent)\n",
    "\n",
    "ua = UserAgent()\n",
    "\n",
    "user_agent = {'User-agent': ua.random}\n",
    "print(user_agent)\n",
    "response  = requests.get(url, headers = user_agent)\n",
    "print(response)\n",
    "\n",
    "pprint.pprint(response.text)"
   ]
  },
  {
   "cell_type": "code",
   "execution_count": 3,
   "metadata": {
    "collapsed": true
   },
   "outputs": [],
   "source": [
    "soup=BeautifulSoup(response.content, \"lxml\")"
   ]
  },
  {
   "cell_type": "markdown",
   "metadata": {},
   "source": [
    "** Create linksList which will contain all the useful links from the archive page **"
   ]
  },
  {
   "cell_type": "code",
   "execution_count": 4,
   "metadata": {
    "collapsed": true
   },
   "outputs": [],
   "source": [
    "linksList=[]\n",
    "for link in soup.find_all('a'):\n",
    "    linksList.append(link.get('href'))"
   ]
  },
  {
   "cell_type": "code",
   "execution_count": 5,
   "metadata": {
    "collapsed": false
   },
   "outputs": [
    {
     "name": "stdout",
     "output_type": "stream",
     "text": [
      "['/archive/list', '/archive/astro-ph', '/archive/cond-mat', '/archive/cs', '/archive/gr-qc', '/archive/hep-ex', '/archive/hep-lat', '/archive/hep-ph', '/archive/hep-th', '/archive/math', '/archive/math-ph', '/archive/nlin', '/archive/nucl-ex', '/archive/nucl-th', '/archive/physics', '/archive/q-bio', '/archive/q-fin', '/archive/quant-ph', '/archive/stat', '/archive/physics.acc-ph', '/archive/nlin.AO', '/archive/math.AG', '/archive/physics.ao-ph', '/archive/physics.atom-ph', '/archive/physics.data-an', '/archive/nlin.CD', '/archive/physics.chem-ph', '/archive/cs.CL', '/archive/nlin.CG', '/archive/math.DG', '/archive/math.FA', '/archive/cond-mat.mtrl-sci', '/archive/nlin.PS', '/archive/physics.plasm-ph', '/archive/math.QA', '/archive/nlin.SI', '/archive/cond-mat.supr-con']\n"
     ]
    }
   ],
   "source": [
    "archivesList=[]\n",
    "for link in linksList:\n",
    "    if 'archive' in str(link):\n",
    "        archivesList.append(link)\n",
    "        \n",
    "print(archivesList)"
   ]
  },
  {
   "cell_type": "markdown",
   "metadata": {},
   "source": [
    "**Creating function that uses each 'link' in the archivesList and scrapes the page of that link - saving the 'keywords' into a 'otherList' **"
   ]
  },
  {
   "cell_type": "code",
   "execution_count": 6,
   "metadata": {
    "collapsed": false
   },
   "outputs": [
    {
     "name": "stdout",
     "output_type": "stream",
     "text": [
      "http://www.arxiv.org/archive/astro-ph\n",
      "http://www.arxiv.org/archive/cond-mat\n",
      "http://www.arxiv.org/archive/cs\n",
      "http://www.arxiv.org/archive/gr-qc\n",
      "http://www.arxiv.org/archive/hep-ex\n",
      "http://www.arxiv.org/archive/hep-lat\n",
      "http://www.arxiv.org/archive/hep-ph\n",
      "http://www.arxiv.org/archive/hep-th\n",
      "http://www.arxiv.org/archive/math\n",
      "http://www.arxiv.org/archive/math-ph\n",
      "http://www.arxiv.org/archive/nlin\n",
      "http://www.arxiv.org/archive/nucl-ex\n",
      "http://www.arxiv.org/archive/nucl-th\n",
      "http://www.arxiv.org/archive/physics\n",
      "http://www.arxiv.org/archive/q-bio\n",
      "http://www.arxiv.org/archive/q-fin\n",
      "http://www.arxiv.org/archive/quant-ph\n",
      "http://www.arxiv.org/archive/stat\n",
      "http://www.arxiv.org/archive/physics.acc-ph\n",
      "http://www.arxiv.org/archive/nlin.AO\n",
      "http://www.arxiv.org/archive/math.AG\n",
      "http://www.arxiv.org/archive/physics.ao-ph\n",
      "http://www.arxiv.org/archive/physics.atom-ph\n",
      "http://www.arxiv.org/archive/physics.data-an\n",
      "http://www.arxiv.org/archive/nlin.CD\n",
      "http://www.arxiv.org/archive/physics.chem-ph\n",
      "http://www.arxiv.org/archive/cs.CL\n",
      "http://www.arxiv.org/archive/nlin.CG\n",
      "http://www.arxiv.org/archive/math.DG\n",
      "http://www.arxiv.org/archive/math.FA\n",
      "http://www.arxiv.org/archive/cond-mat.mtrl-sci\n",
      "http://www.arxiv.org/archive/nlin.PS\n",
      "http://www.arxiv.org/archive/physics.plasm-ph\n",
      "http://www.arxiv.org/archive/math.QA\n",
      "http://www.arxiv.org/archive/nlin.SI\n",
      "http://www.arxiv.org/archive/cond-mat.supr-con\n"
     ]
    }
   ],
   "source": [
    "masterList=[]\n",
    "otherList=[]\n",
    "\n",
    "baseURL='http://www.arxiv.org'\n",
    "for i in range(1, len(archivesList)):\n",
    "    print(baseURL+archivesList[i])"
   ]
  },
  {
   "cell_type": "code",
   "execution_count": 7,
   "metadata": {
    "collapsed": true
   },
   "outputs": [],
   "source": [
    "tempList=[]\n",
    "cleanedList=[]\n",
    "\n",
    "def pullKeywordInfo(archives):\n",
    "    for link in archives:\n",
    "        keywords=[]\n",
    "        baseURL='http://www.arxiv.org'\n",
    "        currentUrl=baseURL+link\n",
    "        user_agent = {'User-agent': 'Mozilla/5.0'}\n",
    "        response=requests.get(currentUrl, headers=user_agent)\n",
    "        ua = UserAgent()\n",
    "        user_agent = {'User-agent': ua.random}\n",
    "        soup=BeautifulSoup(response.content, \"lxml\")\n",
    "        generalData=soup.find_all(\"li\")\n",
    "        testList=soup.find_all(\"b\")\n",
    "        del testList[:3]\n",
    "        tempList.extend(testList)\n",
    "\n",
    "pullKeywordInfo(archivesList)"
   ]
  },
  {
   "cell_type": "code",
   "execution_count": 8,
   "metadata": {
    "collapsed": true
   },
   "outputs": [],
   "source": [
    "for i in tempList:\n",
    "    cleanedList.append(i.text)"
   ]
  },
  {
   "cell_type": "markdown",
   "metadata": {},
   "source": [
    "** Split off all unnecessary information from string elements - only saving the keyword used in API query (keywords saved into masterList **"
   ]
  },
  {
   "cell_type": "code",
   "execution_count": 9,
   "metadata": {
    "collapsed": true
   },
   "outputs": [],
   "source": [
    "for i in range(0, len(cleanedList)):\n",
    "    masterList.append(cleanedList[i].split(' ')[0])"
   ]
  },
  {
   "cell_type": "code",
   "execution_count": 10,
   "metadata": {
    "collapsed": false,
    "scrolled": true
   },
   "outputs": [
    {
     "name": "stdout",
     "output_type": "stream",
     "text": [
      "482\n"
     ]
    }
   ],
   "source": [
    "pprint.pprint(len(masterList))"
   ]
  },
  {
   "cell_type": "markdown",
   "metadata": {},
   "source": [
    "482 keyword items but some are duplicates... turn it into a set, then list:"
   ]
  },
  {
   "cell_type": "code",
   "execution_count": 11,
   "metadata": {
    "collapsed": true
   },
   "outputs": [],
   "source": [
    "masterList=list(set(masterList))"
   ]
  },
  {
   "cell_type": "code",
   "execution_count": 12,
   "metadata": {
    "collapsed": false
   },
   "outputs": [
    {
     "data": {
      "text/plain": [
       "139"
      ]
     },
     "execution_count": 12,
     "metadata": {},
     "output_type": "execute_result"
    }
   ],
   "source": [
    "len(masterList)"
   ]
  },
  {
   "cell_type": "markdown",
   "metadata": {},
   "source": [
    "## API Query Example #1\n",
    "    Below is an example of an API query. The entire cell below can be used within a loop, making a query for every item in the masterList. Not necessarily possible because of the arXiv's rate limit. I did the queries in batches so I wouldn't hit the rate limit and the program wouldn't crash"
   ]
  },
  {
   "cell_type": "code",
   "execution_count": null,
   "metadata": {
    "collapsed": false
   },
   "outputs": [],
   "source": [
    "# Base api query url\n",
    "base_url = 'http://export.arxiv.org/api/query?';\n",
    "\n",
    "# 'base_url' needs to be complemented with the items below + 'query'\n",
    "search_query = 'all:' + 'astro-ph.GA'\n",
    "start = 0                     # retreive the first 5 results\n",
    "max_results = 10 # max number of results \n",
    "\n",
    "query = 'search_query=%s&start=%i&max_results=%i' % (search_query,\n",
    "                                                     start,\n",
    "                                                     max_results)\n",
    "\n",
    "# Opensearch metadata such as totalResults, startIndex, \n",
    "# and itemsPerPage live in the opensearch namespase.\n",
    "# Some entry metadata lives in the arXiv namespace.\n",
    "# This is a hack to expose both of these namespaces in\n",
    "# feedparser v4.1\n",
    "feedparser._FeedParserMixin.namespaces['http://a9.com/-/spec/opensearch/1.1/'] = 'opensearch'\n",
    "feedparser._FeedParserMixin.namespaces['http://arxiv.org/schemas/atom'] = 'arxiv'\n",
    "\n",
    "# perform a GET request using the base_url and query\n",
    "response = urllib.request.urlopen(base_url+query).read()\n",
    "\n",
    "# change author -> contributors (because contributors is a list)\n",
    "response = response.replace(b'author',b'contributor')\n",
    "\n",
    "# parse the response using feedparser\n",
    "feed = feedparser.parse(response)\n",
    "print(\"FEED IS OF THIS TYPE {}\".format(type(feed)))\n",
    "# print out feed information\n",
    "print( 'Feed title: %s' % feed.feed.title)\n",
    "print( 'Feed last updated: %s' % feed.feed.updated)\n",
    "\n",
    "# print opensearch metadata\n",
    "print( 'totalResults for this query: %s' % feed.feed.opensearch_totalresults)\n",
    "print( 'itemsPerPage for this query: %s' % feed.feed.opensearch_itemsperpage)\n",
    "print( 'startIndex for this query: %s'   % feed.feed.opensearch_startindex)\n",
    "\n",
    "# Run through each entry, and print out information\n",
    "for entry in feed.entries:\n",
    "    print( 'e-print metadata')\n",
    "    print( 'arxiv-id: %s' % entry.id.split('/abs/')[-1])\n",
    "    print('Published: %s' % entry.published)\n",
    "    print( 'Title:  %s' % entry.title)\n",
    "    \n",
    "    print( 'Authors:  %s' % ','.join(author.name for author in entry.contributors))\n",
    "    \n",
    "    # get the links to the abs page and pdf for this e-print\n",
    "    for link in entry.links:\n",
    "        if link.rel == 'alternate':\n",
    "            print( 'abs page link: %s' % link.href)\n",
    "        elif link.title == 'pdf':\n",
    "            print('pdf link: %s' % link.href)\n",
    "    \n",
    "    # The journal reference, comments and primary_category sections live under \n",
    "    # the arxiv namespace\n",
    "    try:\n",
    "        journal_ref = entry.arxiv_journal_ref\n",
    "    except AttributeError:\n",
    "        journal_ref = 'No journal ref found'\n",
    "    print( 'Journal reference: %s' % journal_ref)\n",
    "    \n",
    "    try:\n",
    "        comment = entry.arxiv_comment\n",
    "    except AttributeError:\n",
    "        comment = 'No comment found'\n",
    "    print( 'Comments: %s' % comment)\n",
    "    \n",
    "    \n",
    "    print( 'Primary Category: %s' % entry.tags[0]['term'])\n",
    "    \n",
    "    # Lets get all the categories\n",
    "    all_categories = [t['term'] for t in entry.tags]\n",
    "    print( 'All Categories: %s' % (', ').join(all_categories))\n",
    "    # The abstract is in the <summary> element\n",
    "    print( 'Abstract: %s' %  entry.summary)"
   ]
  },
  {
   "cell_type": "markdown",
   "metadata": {},
   "source": [
    "**Since the API rate limit was too small, I just did a query for each keyword in the masterList and got the \n",
    "max entries for each keyword. Adding these values to a 'resultsList' and then eventually zipping the two lists**"
   ]
  },
  {
   "cell_type": "code",
   "execution_count": 13,
   "metadata": {
    "collapsed": false
   },
   "outputs": [],
   "source": [
    "resultsList=[]\n",
    "\n",
    "for i in range(0, len(masterList)):\n",
    "    # Base api query url\n",
    "    base_url = 'http://export.arxiv.org/api/query?';\n",
    "\n",
    "    # Search parameters\n",
    "    search_query = 'all:' + masterList[i] # search for electron in all fields\n",
    "    start = 0                     # retreive the first 5 results\n",
    "    max_results = 1\n",
    "\n",
    "    query = 'search_query=%s&start=%i&max_results=%i' % (search_query,\n",
    "                                                         start,\n",
    "                                                         max_results)\n",
    "\n",
    "    # Opensearch metadata such as totalResults, startIndex, \n",
    "    # and itemsPerPage live in the opensearch namespase.\n",
    "    # Some entry metadata lives in the arXiv namespace.\n",
    "    # This is a hack to expose both of these namespaces in\n",
    "    # feedparser v4.1\n",
    "    feedparser._FeedParserMixin.namespaces['http://a9.com/-/spec/opensearch/1.1/'] = 'opensearch'\n",
    "    feedparser._FeedParserMixin.namespaces['http://arxiv.org/schemas/atom'] = 'arxiv'\n",
    "\n",
    "    # perform a GET request using the base_url and query\n",
    "    response = urllib.request.urlopen(base_url+query).read()\n",
    "\n",
    "    # change author -> contributors (because contributors is a list)\n",
    "    response = response.replace(b'author',b'contributor')\n",
    "\n",
    "    # parse the response using feedparser\n",
    "    feed = feedparser.parse(response)\n",
    "    resultsList.append(int(feed.feed.opensearch_totalresults))"
   ]
  },
  {
   "cell_type": "markdown",
   "metadata": {},
   "source": [
    "** Zip the two lists: **"
   ]
  },
  {
   "cell_type": "code",
   "execution_count": 14,
   "metadata": {
    "collapsed": false
   },
   "outputs": [
    {
     "name": "stdout",
     "output_type": "stream",
     "text": [
      "[('nlin.SI', 8474),\n",
      " ('math.GM', 2166),\n",
      " ('cs.IR', 3549),\n",
      " ('cs.DB', 3191),\n",
      " ('physics.data-an', 5798),\n",
      " ('physics.atom-ph', 12300),\n",
      " ('q-fin.RM', 978),\n",
      " ('cs.MS', 989),\n",
      " ('cs.SI', 7096),\n",
      " ('cs.SD', 842),\n",
      " ('math.CA', 12543),\n",
      " ('math.OC', 14362),\n",
      " ('cs.PL', 2935),\n",
      " ('q-fin.EC', 442),\n",
      " ('math.IT', 22157),\n",
      " ('q-bio.BM', 3125),\n",
      " ('math.KT', 3668),\n",
      " ('cond-mat.quant-gas', 11025),\n",
      " ('physics.gen-ph', 8061),\n",
      " ('cond-mat.str-el', 45644),\n",
      " ('q-bio.QM', 4225),\n",
      " ('cs.NI', 8871),\n",
      " ('physics.hist-ph', 2609),\n",
      " ('nlin.CG', 1036),\n",
      " ('q-bio.PE', 5693),\n",
      " ('astro-ph.EP', 11831),\n",
      " ('q-fin.CP', 945),\n",
      " ('math.NT', 21501),\n",
      " ('math.AP', 27834),\n",
      " ('q-fin.GN', 1575),\n",
      " ('cs.PF', 1280),\n",
      " ('math.NA', 12440),\n",
      " ('nlin.PS', 6008),\n",
      " ('q-bio.GN', 1798),\n",
      " ('cs.CC', 5426),\n",
      " ('cs.SE', 4093),\n",
      " ('math.GN', 2712),\n",
      " ('math.OA', 7995),\n",
      " ('stat.CO', 2862),\n",
      " ('cond-mat.other', 11981),\n",
      " ('cs.MA', 1549),\n",
      " ('cond-mat.dis-nn', 15578),\n",
      " ('q-bio.MN', 2332),\n",
      " ('physics.comp-ph', 8486),\n",
      " ('physics.plasm-ph', 7946),\n",
      " ('physics.ins-det', 9734),\n",
      " ('math.AG', 31692),\n",
      " ('stat.ML', 10761),\n",
      " ('astro-ph.HE', 25965),\n",
      " ('cs.SC', 1196),\n",
      " ('cs.MM', 1367),\n",
      " ('cs.CR', 6667),\n",
      " ('math.LO', 6694),\n",
      " ('q-fin.PR', 1239),\n",
      " ('q-bio.OT', 691),\n",
      " ('math.ST', 10471),\n",
      " ('physics.pop-ph', 1393),\n",
      " ('nlin.AO', 4166),\n",
      " ('physics.ao-ph', 2747),\n",
      " ('astro-ph.SR', 31041),\n",
      " ('math.AC', 7428),\n",
      " ('math.GR', 12318),\n",
      " ('cond-mat.mes-hall', 52115),\n",
      " ('cs.LO', 7260),\n",
      " ('q-bio.TO', 954),\n",
      " ('nlin.CD', 11410),\n",
      " ('math.DS', 18011),\n",
      " ('cs.SY', 5266),\n",
      " ('physics.bio-ph', 8005),\n",
      " ('cs.AI', 11214),\n",
      " ('physics.class-ph', 5160),\n",
      " ('physics.chem-ph', 9564),\n",
      " ('cs.RO', 2772),\n",
      " ('q-fin.MF', 639),\n",
      " ('cs.CE', 2330),\n",
      " ('physics.optics', 20268),\n",
      " ('cond-mat.stat-mech', 49125),\n",
      " ('q-bio.SC', 1144),\n",
      " ('cs.IT', 22157),\n",
      " ('cs.GR', 854),\n",
      " ('cs.CG', 2902),\n",
      " ('cs.ET', 912),\n",
      " ('cs.AR', 860),\n",
      " ('physics.geo-ph', 3095),\n",
      " ('cond-mat.mtrl-sci', 48549),\n",
      " ('cs.CV', 12094),\n",
      " ('astro-ph.CO', 40921),\n",
      " ('cs.DS', 9808),\n",
      " ('math.HO', 1818),\n",
      " ('math.QA', 13641),\n",
      " ('math.PR', 29152),\n",
      " ('cond-mat.soft', 23652),\n",
      " ('stat.TH', 10467),\n",
      " ('math.MP', 49938),\n",
      " ('math.GT', 13783),\n",
      " ('math.MG', 5791),\n",
      " ('physics.flu-dyn', 11110),\n",
      " ('q-bio.CB', 1241),\n",
      " ('cs.GL', 130),\n",
      " ('cs.NE', 3969),\n",
      " ('cs.NA', 1988),\n",
      " ('physics.med-ph', 2057),\n",
      " ('stat.AP', 5609),\n",
      " ('math.RT', 14770),\n",
      " ('math.AT', 8464),\n",
      " ('q-fin.ST', 1879),\n",
      " ('astro-ph.IM', 11699),\n",
      " ('cs.OS', 338),\n",
      " ('cs.CY', 3725),\n",
      " ('physics.soc-ph', 11563),\n",
      " ('cs.DL', 2055),\n",
      " ('cs.GT', 4095),\n",
      " ('math.CO', 32070),\n",
      " ('physics.ed-ph', 2001),\n",
      " ('cs.DC', 6301),\n",
      " ('math.FA', 15977),\n",
      " ('cond-mat.supr-con', 30327),\n",
      " ('cs.CL', 6492),\n",
      " ('math.DG', 25194),\n",
      " ('math.RA', 9737),\n",
      " ('math.CT', 4127),\n",
      " ('cs.DM', 6333),\n",
      " ('physics.app-ph', 250),\n",
      " ('q-bio.NC', 3739),\n",
      " ('cs.OH', 1593),\n",
      " ('math.CV', 9527),\n",
      " ('cs.LG', 14281),\n",
      " ('q-fin.TR', 807),\n",
      " ('stat.OT', 406),\n",
      " ('cs.HC', 2310),\n",
      " ('physics.atm-clus', 1730),\n",
      " ('q-fin.PM', 814),\n",
      " ('math.SP', 5488),\n",
      " ('cs.FL', 2060),\n",
      " ('math.SG', 5705),\n",
      " ('astro-ph.GA', 26546),\n",
      " ('stat.ME', 7630),\n",
      " ('physics.acc-ph', 4456),\n",
      " ('physics.space-ph', 2747)]\n"
     ]
    }
   ],
   "source": [
    "zipped=list(zip(masterList,resultsList))\n",
    "pprint.pprint(zipped)"
   ]
  },
  {
   "cell_type": "markdown",
   "metadata": {},
   "source": [
    "sort the zipped list in ascending order of max values:"
   ]
  },
  {
   "cell_type": "code",
   "execution_count": 15,
   "metadata": {
    "collapsed": false
   },
   "outputs": [],
   "source": [
    "zipped.sort(key = lambda t: t[1])"
   ]
  },
  {
   "cell_type": "code",
   "execution_count": 16,
   "metadata": {
    "collapsed": false
   },
   "outputs": [
    {
     "data": {
      "text/plain": [
       "[('cs.GL', 130),\n",
       " ('physics.app-ph', 250),\n",
       " ('cs.OS', 338),\n",
       " ('stat.OT', 406),\n",
       " ('q-fin.EC', 442),\n",
       " ('q-fin.MF', 639),\n",
       " ('q-bio.OT', 691),\n",
       " ('q-fin.TR', 807),\n",
       " ('q-fin.PM', 814),\n",
       " ('cs.SD', 842)]"
      ]
     },
     "execution_count": 16,
     "metadata": {},
     "output_type": "execute_result"
    }
   ],
   "source": [
    "zipped[0:10]"
   ]
  },
  {
   "cell_type": "markdown",
   "metadata": {},
   "source": [
    "connect to MongoDB:"
   ]
  },
  {
   "cell_type": "code",
   "execution_count": 17,
   "metadata": {
    "collapsed": true
   },
   "outputs": [],
   "source": [
    "from pymongo import MongoClient\n",
    "client = MongoClient()\n",
    "db=client.test"
   ]
  },
  {
   "cell_type": "code",
   "execution_count": 18,
   "metadata": {
    "collapsed": false
   },
   "outputs": [],
   "source": [
    "archives = client.arxivDB.archives"
   ]
  },
  {
   "cell_type": "markdown",
   "metadata": {
    "collapsed": false
   },
   "source": [
    "## API Query #2\n",
    "    I did the queries in keyword batches of 10, until I got to a keyword that would be too much to handle. At that point, I did each single keyword query in multiple batches (if that makes sense).\n",
    "    The code below continuously adds to my Mongo database."
   ]
  },
  {
   "cell_type": "code",
   "execution_count": null,
   "metadata": {
    "collapsed": false
   },
   "outputs": [],
   "source": [
    "for i in range(41,50):\n",
    "    # Base api query url\n",
    "    base_url = 'http://export.arxiv.org/api/query?';\n",
    "\n",
    "    # Search parameters\n",
    "    search_query = 'all:' + zipped[i][0] # search for electron in all fields\n",
    "    start = 0                     # retreive the first 5 results\n",
    "    max_results = zipped[i][1]\n",
    "\n",
    "    query = 'search_query=%s&start=%i&max_results=%i' % (search_query,\n",
    "                                                     start,\n",
    "                                                     max_results)\n",
    "\n",
    "    feedparser._FeedParserMixin.namespaces['http://a9.com/-/spec/opensearch/1.1/'] = 'opensearch'\n",
    "    feedparser._FeedParserMixin.namespaces['http://arxiv.org/schemas/atom'] = 'arxiv'\n",
    "\n",
    "    # perform a GET request using the base_url and query\n",
    "    response = urllib.request.urlopen(base_url+query).read()\n",
    "\n",
    "    # change author -> contributors (because contributors is a list)\n",
    "    response = response.replace(b'author',b'contributor')\n",
    "    \n",
    "    # parse the response using feedparser\n",
    "    feed = feedparser.parse(response)\n",
    "    for i in range(0, len(feed.entries)):\n",
    "        db.archives.insert_one(feed.entries[i])"
   ]
  },
  {
   "cell_type": "code",
   "execution_count": null,
   "metadata": {
    "collapsed": false,
    "scrolled": true
   },
   "outputs": [],
   "source": [
    "for i in range(95,96):\n",
    "    # Base api query url\n",
    "    base_url = 'http://export.arxiv.org/api/query?';\n",
    "\n",
    "    # Search parameters\n",
    "    search_query = 'all:' + zipped[i][0] # search for electron in all fields\n",
    "    start = 0                     # retreive the first 5 results\n",
    "    max_results = zipped[i][1]\n",
    "\n",
    "    query = 'search_query=%s&start=%i&max_results=%i' % (search_query,\n",
    "                                                     start,\n",
    "                                                     max_results)\n",
    "\n",
    "    feedparser._FeedParserMixin.namespaces['http://a9.com/-/spec/opensearch/1.1/'] = 'opensearch'\n",
    "    feedparser._FeedParserMixin.namespaces['http://arxiv.org/schemas/atom'] = 'arxiv'\n",
    "\n",
    "    # perform a GET request using the base_url and query\n",
    "    response = urllib.request.urlopen(base_url+query).read()\n",
    "\n",
    "    # change author -> contributors (because contributors is a list)\n",
    "    response = response.replace(b'author',b'contributor')\n",
    "\n",
    "    # parse the response using feedparser\n",
    "    feed = feedparser.parse(response)\n",
    "    #print(type(feed))\n",
    "    #print(type(feed.entries))\n",
    "    #archives.insert_one(feed.entries)\n",
    "    for i in range(0, len(feed.entries)):\n",
    "        db.archives.insert_one(feed.entries[i])"
   ]
  },
  {
   "cell_type": "markdown",
   "metadata": {},
   "source": [
    "## maxed out at item 95... need to create function that makes api queries in batches"
   ]
  },
  {
   "cell_type": "code",
   "execution_count": null,
   "metadata": {
    "collapsed": false
   },
   "outputs": [],
   "source": [
    "def createBatches(item):\n",
    "    maxRes=item[1]\n",
    "    batches = maxRes // 500\n",
    "    remainder = maxRes-(batches*500)\n",
    "    print(item[1])\n",
    "    print(batches)\n",
    "    print(remainder)\n",
    "    return batches, remainder\n",
    "\n",
    "\n",
    "def apiQuery(item, batches, remainder):\n",
    "    counter=1\n",
    "    while counter<= batches:\n",
    "        base_url = 'http://export.arxiv.org/api/query?';\n",
    "\n",
    "        # Search parameters\n",
    "        search_query = 'all:' + item[0] # search for electron in all fields\n",
    "        start = (counter-1)*500                     # retreive the first 5 results\n",
    "        max_results = (counter*500)\n",
    "\n",
    "        query = 'search_query=%s&start=%i&max_results=%i' % (search_query,\n",
    "                                                         start,\n",
    "                                                         max_results)\n",
    "\n",
    "        feedparser._FeedParserMixin.namespaces['http://a9.com/-/spec/opensearch/1.1/'] = 'opensearch'\n",
    "        feedparser._FeedParserMixin.namespaces['http://arxiv.org/schemas/atom'] = 'arxiv'\n",
    "\n",
    "        # perform a GET request using the base_url and query\n",
    "        response = urllib.request.urlopen(base_url+query).read()\n",
    "\n",
    "        # change author -> contributors (because contributors is a list)\n",
    "        response = response.replace(b'author',b'contributor')\n",
    "\n",
    "        # parse the response using feedparser\n",
    "        feed = feedparser.parse(response)\n",
    "        #print(type(feed))\n",
    "        #print(type(feed.entries))\n",
    "        #archives.insert_one(feed.entries)\n",
    "        for i in range(0, len(feed.entries)):\n",
    "            db.archives.insert_one(feed.entries[i])\n",
    "        counter+=1\n",
    "    \n",
    "    base_url = 'http://export.arxiv.org/api/query?';\n",
    "\n",
    "    # Search parameters\n",
    "    search_query = 'all:' + item[0] # search for electron in all fields\n",
    "    start = batches*500                     # retreive the first 5 results\n",
    "    max_results = remainder\n",
    "\n",
    "    query = 'search_query=%s&start=%i&max_results=%i' % (search_query,\n",
    "                                                     start,\n",
    "                                                     max_results)\n",
    "\n",
    "    feedparser._FeedParserMixin.namespaces['http://a9.com/-/spec/opensearch/1.1/'] = 'opensearch'\n",
    "    feedparser._FeedParserMixin.namespaces['http://arxiv.org/schemas/atom'] = 'arxiv'\n",
    "\n",
    "    # perform a GET request using the base_url and query\n",
    "    response = urllib.request.urlopen(base_url+query).read()\n",
    "\n",
    "    # change author -> contributors (because contributors is a list)\n",
    "    response = response.replace(b'author',b'contributor')\n",
    "\n",
    "    # parse the response using feedparser\n",
    "    feed = feedparser.parse(response)\n",
    "    #print(type(feed))\n",
    "    #print(type(feed.entries))\n",
    "    #archives.insert_one(feed.entries)\n",
    "    for i in range(0, len(feed.entries)):\n",
    "        db.archives.insert_one(feed.entries[i])"
   ]
  },
  {
   "cell_type": "code",
   "execution_count": null,
   "metadata": {
    "collapsed": false
   },
   "outputs": [],
   "source": []
  },
  {
   "cell_type": "markdown",
   "metadata": {},
   "source": [
    "Check to see how many documents are in my MongoDB:"
   ]
  },
  {
   "cell_type": "code",
   "execution_count": null,
   "metadata": {
    "collapsed": false
   },
   "outputs": [],
   "source": [
    "db.archives.count()"
   ]
  },
  {
   "cell_type": "code",
   "execution_count": null,
   "metadata": {
    "collapsed": false
   },
   "outputs": [],
   "source": [
    "df=pd.DataFrame(list(db.archives.find()))"
   ]
  },
  {
   "cell_type": "markdown",
   "metadata": {},
   "source": [
    "** Save arxivDF to csv: **"
   ]
  },
  {
   "cell_type": "code",
   "execution_count": null,
   "metadata": {
    "collapsed": false
   },
   "outputs": [],
   "source": [
    "#df.to_csv('arxivDF_v2.csv')"
   ]
  },
  {
   "cell_type": "markdown",
   "metadata": {},
   "source": [
    "** Read csv into DataFrame: **"
   ]
  },
  {
   "cell_type": "code",
   "execution_count": null,
   "metadata": {
    "collapsed": true
   },
   "outputs": [],
   "source": [
    "#arxivDF=pd.read_csv('arxivDF_v2.csv', sep=',')"
   ]
  }
 ],
 "metadata": {
  "anaconda-cloud": {},
  "kernelspec": {
   "display_name": "Python [default]",
   "language": "python",
   "name": "python3"
  },
  "language_info": {
   "codemirror_mode": {
    "name": "ipython",
    "version": 3
   },
   "file_extension": ".py",
   "mimetype": "text/x-python",
   "name": "python",
   "nbconvert_exporter": "python",
   "pygments_lexer": "ipython3",
   "version": "3.5.2"
  }
 },
 "nbformat": 4,
 "nbformat_minor": 1
}
